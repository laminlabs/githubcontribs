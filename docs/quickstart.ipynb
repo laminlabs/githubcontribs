{
 "cells": [
  {
   "cell_type": "markdown",
   "id": "7f26a335-cf1c-4e69-be3b-0c26b154606a",
   "metadata": {},
   "source": [
    "# Quickstart"
   ]
  },
  {
   "cell_type": "code",
   "execution_count": null,
   "id": "a51faaf3-ee27-43c6-b48d-13be1adb5c46",
   "metadata": {},
   "outputs": [],
   "source": [
    "import githubcontribs"
   ]
  },
  {
   "cell_type": "code",
   "execution_count": null,
   "id": "fa758625-efb0-4047-9a03-aa534bf6f78e",
   "metadata": {},
   "outputs": [],
   "source": [
    "fetcher = githubcontribs.Fetcher(\"laminlabs\")"
   ]
  },
  {
   "cell_type": "code",
   "execution_count": null,
   "id": "50ca3279",
   "metadata": {},
   "outputs": [],
   "source": [
    "df = fetcher.run(\"lamindb\")"
   ]
  },
  {
   "cell_type": "code",
   "execution_count": null,
   "id": "96276bb1",
   "metadata": {},
   "outputs": [],
   "source": [
    "df.head()"
   ]
  }
 ],
 "metadata": {
  "kernelspec": {
   "display_name": "py312",
   "language": "python",
   "name": "python3"
  },
  "language_info": {
   "codemirror_mode": {
    "name": "ipython",
    "version": 3
   },
   "file_extension": ".py",
   "mimetype": "text/x-python",
   "name": "python",
   "nbconvert_exporter": "python",
   "pygments_lexer": "ipython3",
   "version": "3.12.8"
  }
 },
 "nbformat": 4,
 "nbformat_minor": 5
}
